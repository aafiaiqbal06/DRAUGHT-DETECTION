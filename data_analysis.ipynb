{
 "cells": [
  {
   "cell_type": "code",
   "execution_count": 4,
   "id": "78fd65c0",
   "metadata": {},
   "outputs": [],
   "source": [
    "import pandas as pd\n",
    "import numpy as np"
   ]
  },
  {
   "cell_type": "code",
   "execution_count": 5,
   "id": "2618315a",
   "metadata": {},
   "outputs": [],
   "source": [
    "df = pd.read_csv(\"soil_data.csv\")"
   ]
  },
  {
   "cell_type": "code",
   "execution_count": 6,
   "id": "5ff65ff1",
   "metadata": {},
   "outputs": [
    {
     "data": {
      "text/html": [
       "<div>\n",
       "<style scoped>\n",
       "    .dataframe tbody tr th:only-of-type {\n",
       "        vertical-align: middle;\n",
       "    }\n",
       "\n",
       "    .dataframe tbody tr th {\n",
       "        vertical-align: top;\n",
       "    }\n",
       "\n",
       "    .dataframe thead th {\n",
       "        text-align: right;\n",
       "    }\n",
       "</style>\n",
       "<table border=\"1\" class=\"dataframe\">\n",
       "  <thead>\n",
       "    <tr style=\"text-align: right;\">\n",
       "      <th></th>\n",
       "      <th>fips</th>\n",
       "      <th>lat</th>\n",
       "      <th>lon</th>\n",
       "      <th>elevation</th>\n",
       "      <th>slope1</th>\n",
       "      <th>slope2</th>\n",
       "      <th>slope3</th>\n",
       "      <th>slope4</th>\n",
       "      <th>slope5</th>\n",
       "      <th>slope6</th>\n",
       "      <th>...</th>\n",
       "      <th>CULTRF_LAND</th>\n",
       "      <th>CULTIR_LAND</th>\n",
       "      <th>CULT_LAND</th>\n",
       "      <th>SQ1</th>\n",
       "      <th>SQ2</th>\n",
       "      <th>SQ3</th>\n",
       "      <th>SQ4</th>\n",
       "      <th>SQ5</th>\n",
       "      <th>SQ6</th>\n",
       "      <th>SQ7</th>\n",
       "    </tr>\n",
       "  </thead>\n",
       "  <tbody>\n",
       "    <tr>\n",
       "      <th>0</th>\n",
       "      <td>1001</td>\n",
       "      <td>32.536382</td>\n",
       "      <td>-86.644490</td>\n",
       "      <td>63</td>\n",
       "      <td>0.0419</td>\n",
       "      <td>0.2788</td>\n",
       "      <td>0.2984</td>\n",
       "      <td>0.2497</td>\n",
       "      <td>0.1142</td>\n",
       "      <td>0.0170</td>\n",
       "      <td>...</td>\n",
       "      <td>56.293411</td>\n",
       "      <td>1.014811</td>\n",
       "      <td>57.308224</td>\n",
       "      <td>1</td>\n",
       "      <td>1</td>\n",
       "      <td>1</td>\n",
       "      <td>1</td>\n",
       "      <td>1</td>\n",
       "      <td>1</td>\n",
       "      <td>2</td>\n",
       "    </tr>\n",
       "    <tr>\n",
       "      <th>1</th>\n",
       "      <td>1005</td>\n",
       "      <td>31.870670</td>\n",
       "      <td>-85.405456</td>\n",
       "      <td>146</td>\n",
       "      <td>0.0158</td>\n",
       "      <td>0.1868</td>\n",
       "      <td>0.5441</td>\n",
       "      <td>0.2424</td>\n",
       "      <td>0.0106</td>\n",
       "      <td>0.0003</td>\n",
       "      <td>...</td>\n",
       "      <td>72.578804</td>\n",
       "      <td>1.828159</td>\n",
       "      <td>74.406960</td>\n",
       "      <td>3</td>\n",
       "      <td>2</td>\n",
       "      <td>1</td>\n",
       "      <td>1</td>\n",
       "      <td>1</td>\n",
       "      <td>1</td>\n",
       "      <td>1</td>\n",
       "    </tr>\n",
       "    <tr>\n",
       "      <th>2</th>\n",
       "      <td>1003</td>\n",
       "      <td>30.659218</td>\n",
       "      <td>-87.746067</td>\n",
       "      <td>52</td>\n",
       "      <td>0.0746</td>\n",
       "      <td>0.4370</td>\n",
       "      <td>0.4415</td>\n",
       "      <td>0.0469</td>\n",
       "      <td>0.0000</td>\n",
       "      <td>0.0000</td>\n",
       "      <td>...</td>\n",
       "      <td>59.843639</td>\n",
       "      <td>2.996914</td>\n",
       "      <td>62.840553</td>\n",
       "      <td>3</td>\n",
       "      <td>2</td>\n",
       "      <td>1</td>\n",
       "      <td>2</td>\n",
       "      <td>1</td>\n",
       "      <td>1</td>\n",
       "      <td>1</td>\n",
       "    </tr>\n",
       "    <tr>\n",
       "      <th>3</th>\n",
       "      <td>1007</td>\n",
       "      <td>33.015893</td>\n",
       "      <td>-87.127148</td>\n",
       "      <td>93</td>\n",
       "      <td>0.0144</td>\n",
       "      <td>0.1617</td>\n",
       "      <td>0.3714</td>\n",
       "      <td>0.3493</td>\n",
       "      <td>0.0898</td>\n",
       "      <td>0.0134</td>\n",
       "      <td>...</td>\n",
       "      <td>1.916593</td>\n",
       "      <td>0.008330</td>\n",
       "      <td>1.924924</td>\n",
       "      <td>3</td>\n",
       "      <td>2</td>\n",
       "      <td>1</td>\n",
       "      <td>1</td>\n",
       "      <td>1</td>\n",
       "      <td>1</td>\n",
       "      <td>1</td>\n",
       "    </tr>\n",
       "    <tr>\n",
       "      <th>4</th>\n",
       "      <td>1009</td>\n",
       "      <td>33.977448</td>\n",
       "      <td>-86.567246</td>\n",
       "      <td>198</td>\n",
       "      <td>0.0050</td>\n",
       "      <td>0.0872</td>\n",
       "      <td>0.2799</td>\n",
       "      <td>0.3576</td>\n",
       "      <td>0.1477</td>\n",
       "      <td>0.1037</td>\n",
       "      <td>...</td>\n",
       "      <td>1.891909</td>\n",
       "      <td>0.027488</td>\n",
       "      <td>1.919397</td>\n",
       "      <td>3</td>\n",
       "      <td>2</td>\n",
       "      <td>1</td>\n",
       "      <td>1</td>\n",
       "      <td>1</td>\n",
       "      <td>1</td>\n",
       "      <td>1</td>\n",
       "    </tr>\n",
       "  </tbody>\n",
       "</table>\n",
       "<p>5 rows × 32 columns</p>\n",
       "</div>"
      ],
      "text/plain": [
       "   fips        lat        lon  elevation  slope1  slope2  slope3  slope4  \\\n",
       "0  1001  32.536382 -86.644490         63  0.0419  0.2788  0.2984  0.2497   \n",
       "1  1005  31.870670 -85.405456        146  0.0158  0.1868  0.5441  0.2424   \n",
       "2  1003  30.659218 -87.746067         52  0.0746  0.4370  0.4415  0.0469   \n",
       "3  1007  33.015893 -87.127148         93  0.0144  0.1617  0.3714  0.3493   \n",
       "4  1009  33.977448 -86.567246        198  0.0050  0.0872  0.2799  0.3576   \n",
       "\n",
       "   slope5  slope6  ...  CULTRF_LAND  CULTIR_LAND  CULT_LAND  SQ1  SQ2  SQ3  \\\n",
       "0  0.1142  0.0170  ...    56.293411     1.014811  57.308224    1    1    1   \n",
       "1  0.0106  0.0003  ...    72.578804     1.828159  74.406960    3    2    1   \n",
       "2  0.0000  0.0000  ...    59.843639     2.996914  62.840553    3    2    1   \n",
       "3  0.0898  0.0134  ...     1.916593     0.008330   1.924924    3    2    1   \n",
       "4  0.1477  0.1037  ...     1.891909     0.027488   1.919397    3    2    1   \n",
       "\n",
       "   SQ4  SQ5  SQ6  SQ7  \n",
       "0    1    1    1    2  \n",
       "1    1    1    1    1  \n",
       "2    2    1    1    1  \n",
       "3    1    1    1    1  \n",
       "4    1    1    1    1  \n",
       "\n",
       "[5 rows x 32 columns]"
      ]
     },
     "execution_count": 6,
     "metadata": {},
     "output_type": "execute_result"
    }
   ],
   "source": [
    "df.head()"
   ]
  },
  {
   "cell_type": "code",
   "execution_count": 8,
   "id": "4e2f1a4d",
   "metadata": {},
   "outputs": [
    {
     "name": "stdout",
     "output_type": "stream",
     "text": [
      "<class 'pandas.core.frame.DataFrame'>\n",
      "RangeIndex: 3109 entries, 0 to 3108\n",
      "Data columns (total 32 columns):\n",
      " #   Column         Non-Null Count  Dtype  \n",
      "---  ------         --------------  -----  \n",
      " 0   fips           3109 non-null   int64  \n",
      " 1   lat            3109 non-null   float64\n",
      " 2   lon            3109 non-null   float64\n",
      " 3   elevation      3109 non-null   int64  \n",
      " 4   slope1         3109 non-null   float64\n",
      " 5   slope2         3109 non-null   float64\n",
      " 6   slope3         3109 non-null   float64\n",
      " 7   slope4         3109 non-null   float64\n",
      " 8   slope5         3109 non-null   float64\n",
      " 9   slope6         3109 non-null   float64\n",
      " 10  slope7         3109 non-null   float64\n",
      " 11  slope8         3109 non-null   float64\n",
      " 12  aspectN        3109 non-null   float64\n",
      " 13  aspectE        3109 non-null   float64\n",
      " 14  aspectS        3109 non-null   float64\n",
      " 15  aspectW        3109 non-null   float64\n",
      " 16  aspectUnknown  3109 non-null   float64\n",
      " 17  WAT_LAND       3109 non-null   float64\n",
      " 18  NVG_LAND       3109 non-null   float64\n",
      " 19  URB_LAND       3109 non-null   float64\n",
      " 20  GRS_LAND       3109 non-null   float64\n",
      " 21  FOR_LAND       3109 non-null   float64\n",
      " 22  CULTRF_LAND    3109 non-null   float64\n",
      " 23  CULTIR_LAND    3109 non-null   float64\n",
      " 24  CULT_LAND      3109 non-null   float64\n",
      " 25  SQ1            3109 non-null   int64  \n",
      " 26  SQ2            3109 non-null   int64  \n",
      " 27  SQ3            3109 non-null   int64  \n",
      " 28  SQ4            3109 non-null   int64  \n",
      " 29  SQ5            3109 non-null   int64  \n",
      " 30  SQ6            3109 non-null   int64  \n",
      " 31  SQ7            3109 non-null   int64  \n",
      "dtypes: float64(23), int64(9)\n",
      "memory usage: 777.4 KB\n"
     ]
    },
    {
     "data": {
      "text/plain": [
       "Index(['fips', 'lat', 'lon', 'elevation', 'slope1', 'slope2', 'slope3',\n",
       "       'slope4', 'slope5', 'slope6', 'slope7', 'slope8', 'aspectN', 'aspectE',\n",
       "       'aspectS', 'aspectW', 'aspectUnknown', 'WAT_LAND', 'NVG_LAND',\n",
       "       'URB_LAND', 'GRS_LAND', 'FOR_LAND', 'CULTRF_LAND', 'CULTIR_LAND',\n",
       "       'CULT_LAND', 'SQ1', 'SQ2', 'SQ3', 'SQ4', 'SQ5', 'SQ6', 'SQ7'],\n",
       "      dtype='object')"
      ]
     },
     "execution_count": 8,
     "metadata": {},
     "output_type": "execute_result"
    }
   ],
   "source": [
    "df.info()\n",
    "df.describe()\n",
    "df.columns"
   ]
  },
  {
   "cell_type": "code",
   "execution_count": 10,
   "id": "83c5dd35",
   "metadata": {},
   "outputs": [
    {
     "data": {
      "text/plain": [
       "Index(['fips', 'lat', 'lon', 'elevation', 'slope1', 'slope2', 'slope3',\n",
       "       'slope4', 'slope5', 'slope6', 'slope7', 'slope8', 'aspectn', 'aspecte',\n",
       "       'aspects', 'aspectw', 'aspectunknown', 'wat_land', 'nvg_land',\n",
       "       'urb_land', 'grs_land', 'for_land', 'cultrf_land', 'cultir_land',\n",
       "       'cult_land', 'sq1', 'sq2', 'sq3', 'sq4', 'sq5', 'sq6', 'sq7'],\n",
       "      dtype='object')"
      ]
     },
     "execution_count": 10,
     "metadata": {},
     "output_type": "execute_result"
    }
   ],
   "source": [
    "df.columns = df.columns.str.strip().str.lower().str.replace(\" \", \"_\")\n",
    "df.columns"
   ]
  },
  {
   "cell_type": "code",
   "execution_count": 11,
   "id": "875f43a4",
   "metadata": {},
   "outputs": [],
   "source": [
    "#check the number of null/missing values "
   ]
  },
  {
   "cell_type": "code",
   "execution_count": 12,
   "id": "d96cc084",
   "metadata": {},
   "outputs": [
    {
     "data": {
      "text/plain": [
       "fips             0\n",
       "lat              0\n",
       "lon              0\n",
       "elevation        0\n",
       "slope1           0\n",
       "slope2           0\n",
       "slope3           0\n",
       "slope4           0\n",
       "slope5           0\n",
       "slope6           0\n",
       "slope7           0\n",
       "slope8           0\n",
       "aspectn          0\n",
       "aspecte          0\n",
       "aspects          0\n",
       "aspectw          0\n",
       "aspectunknown    0\n",
       "wat_land         0\n",
       "nvg_land         0\n",
       "urb_land         0\n",
       "grs_land         0\n",
       "for_land         0\n",
       "cultrf_land      0\n",
       "cultir_land      0\n",
       "cult_land        0\n",
       "sq1              0\n",
       "sq2              0\n",
       "sq3              0\n",
       "sq4              0\n",
       "sq5              0\n",
       "sq6              0\n",
       "sq7              0\n",
       "dtype: int64"
      ]
     },
     "execution_count": 12,
     "metadata": {},
     "output_type": "execute_result"
    }
   ],
   "source": [
    "df.isnull().sum()"
   ]
  },
  {
   "cell_type": "code",
   "execution_count": 13,
   "id": "d6ccf727",
   "metadata": {},
   "outputs": [
    {
     "data": {
      "text/plain": [
       "np.int64(0)"
      ]
     },
     "execution_count": 13,
     "metadata": {},
     "output_type": "execute_result"
    }
   ],
   "source": [
    "df.isnull().sum().sum()"
   ]
  },
  {
   "cell_type": "code",
   "execution_count": null,
   "id": "5561283c",
   "metadata": {},
   "outputs": [],
   "source": [
    "#no null values detected"
   ]
  },
  {
   "cell_type": "code",
   "execution_count": 14,
   "id": "b77c2aee",
   "metadata": {},
   "outputs": [],
   "source": [
    "#checking for duplicate value "
   ]
  },
  {
   "cell_type": "code",
   "execution_count": 15,
   "id": "c55b6366",
   "metadata": {},
   "outputs": [
    {
     "data": {
      "text/plain": [
       "np.int64(0)"
      ]
     },
     "execution_count": 15,
     "metadata": {},
     "output_type": "execute_result"
    }
   ],
   "source": [
    "df.duplicated().sum()"
   ]
  },
  {
   "cell_type": "code",
   "execution_count": null,
   "id": "0500bb54",
   "metadata": {},
   "outputs": [],
   "source": [
    "#no duplicate values detected"
   ]
  },
  {
   "cell_type": "code",
   "execution_count": 16,
   "id": "de92b86f",
   "metadata": {},
   "outputs": [
    {
     "data": {
      "text/plain": [
       "fips               int64\n",
       "lat              float64\n",
       "lon              float64\n",
       "elevation          int64\n",
       "slope1           float64\n",
       "slope2           float64\n",
       "slope3           float64\n",
       "slope4           float64\n",
       "slope5           float64\n",
       "slope6           float64\n",
       "slope7           float64\n",
       "slope8           float64\n",
       "aspectn          float64\n",
       "aspecte          float64\n",
       "aspects          float64\n",
       "aspectw          float64\n",
       "aspectunknown    float64\n",
       "wat_land         float64\n",
       "nvg_land         float64\n",
       "urb_land         float64\n",
       "grs_land         float64\n",
       "for_land         float64\n",
       "cultrf_land      float64\n",
       "cultir_land      float64\n",
       "cult_land        float64\n",
       "sq1                int64\n",
       "sq2                int64\n",
       "sq3                int64\n",
       "sq4                int64\n",
       "sq5                int64\n",
       "sq6                int64\n",
       "sq7                int64\n",
       "dtype: object"
      ]
     },
     "execution_count": 16,
     "metadata": {},
     "output_type": "execute_result"
    }
   ],
   "source": [
    "df.dtypes\n"
   ]
  },
  {
   "cell_type": "code",
   "execution_count": 18,
   "id": "4d39fe0f",
   "metadata": {},
   "outputs": [
    {
     "data": {
      "text/plain": [
       "(3109, 32)"
      ]
     },
     "execution_count": 18,
     "metadata": {},
     "output_type": "execute_result"
    }
   ],
   "source": [
    "df.shape"
   ]
  }
 ],
 "metadata": {
  "kernelspec": {
   "display_name": "Python 3",
   "language": "python",
   "name": "python3"
  },
  "language_info": {
   "codemirror_mode": {
    "name": "ipython",
    "version": 3
   },
   "file_extension": ".py",
   "mimetype": "text/x-python",
   "name": "python",
   "nbconvert_exporter": "python",
   "pygments_lexer": "ipython3",
   "version": "3.12.5"
  }
 },
 "nbformat": 4,
 "nbformat_minor": 5
}
